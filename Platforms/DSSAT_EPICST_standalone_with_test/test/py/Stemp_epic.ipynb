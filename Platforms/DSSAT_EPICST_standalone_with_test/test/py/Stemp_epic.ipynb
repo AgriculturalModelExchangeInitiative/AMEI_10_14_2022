{
 "cells": [
  {
   "cell_type": "markdown",
   "id": "588638dd",
   "metadata": {},
   "source": [
    "# Automatic generation of Notebook using PyCropML\n",
    "    This notebook implements a crop model."
   ]
  },
  {
   "cell_type": "markdown",
   "id": "22f7d27f",
   "metadata": {},
   "source": [
    "### Model Stemp_epic"
   ]
  },
  {
   "cell_type": "code",
   "execution_count": null,
   "id": "3a2dc02a",
   "metadata": {},
   "outputs": [],
   "source": [
    "import numpy\n",
    "from datetime import datetime\n",
    "from array import array\n",
    "import sys\n",
    "sys.path.append(\"..\\..\\src\\py\\DSSAT_EPICST_standalone\")\n",
    "from stemp_epic import model_stemp_epic\n",
    "from stemp_epic import init_stemp_epic\n"
   ]
  },
  {
   "cell_type": "code",
   "execution_count": null,
   "id": "7da19162",
   "metadata": {},
   "outputs": [],
   "source": [
    "NL = 20\n",
    "ISWWAT = \"Y\"\n",
    "DLAYR = [10.0, 10.0,10.0,10.0,10.0,10.0,10.0,10.0,10.0,10.0,10.0,10.0,10.0,10.0,10.0,10.0,10.0,10.0,10.0,10.0]\n",
    "BD = [1.6,1.6,1.6,1.6,1.6,1.6,1.6,1.6,1.6,1.6,1.6,1.6,1.6,1.6,1.6,1.6,1.6,1.6,1.6,1.6] \n",
    "DS = [10,20,30,40, 0.0, 0.0, 0.0, 0.0, 0.0, 0.0, 0.0, 0.0, 0.0, 0.0, 0.0, 0.0, 0.0, 0.0, 0.0, 0.0]\n",
    "DUL = [0.3,0.3,0.3,0.3,0.3,0.3,0.3,0.3,0.3,0.3,0.3,0.3,0.3,0.3,0.3,0.3,0.3,0.3,0.3,0.3]\n",
    "LL = [0.2, 0.2,0.2,0.2,0.2,0.2,0.2,0.2,0.2,0.2,0.2,0.2,0.2,0.2,0.2,0.2,0.2,0.2,0.2,0.2]\n",
    "NLAYR = 4\n",
    "SW = [0.2, 0.2,0.2,0.2,0.2,0.2,0.2,0.2,0.2,0.2,0.2,0.2,0.2,0.2,0.2,0.2,0.2,0.2,0.2,0.2]\n",
    "TAMP = 10.0\n",
    "RAIN = 0.0\n",
    "TAVG = 25.0\n",
    "TMAX = 30.0\n",
    "TMIN = 20.0\n",
    "TAV = 20.0\n",
    "DEPIR = 0.0\n",
    "BIOMAS = 0.0\n",
    "MULCHMASS = 0.0\n",
    "SNOW = 0.0\n",
    "CUMDPT, DSMID, SRFTEMP, NDays, TDL, WetDay, ST, TMA, X2_PREV = init_stemp_epic(NL,ISWWAT,BD,DLAYR,DS,DUL,LL,NLAYR,TAMP,RAIN,SW,TAVG,TMAX,TMIN,TAV,DEPIR,BIOMAS,MULCHMASS,SNOW)\n",
    "params= model_stemp_epic(NL, ISWWAT, BD, DLAYR, DS, DUL, LL, NLAYR, TAMP, RAIN, CUMDPT, DSMID, SW, TAVG, TMAX, TMIN, TAV, SRFTEMP, NDays, TDL, WetDay, ST, TMA, X2_PREV, DEPIR, BIOMAS, MULCHMASS, SNOW)\n",
    "\n",
    "SRFTEMP_estimated = round(params[0], 1)\n",
    "SRFTEMP_computed = 27.3\n",
    "assert (SRFTEMP_estimated == SRFTEMP_computed)\n",
    "ST_estimated = numpy.around(params[4], 1)\n",
    "ST_computed = numpy.around(array('f', [25.7,23.2,21.7,20.9, 0.0,0.0,0.0,0.0,0.0,0.0,0.0,0.0,0.0,0.0,0.0,0.0,0.0,0.0,0.0,0.0]),1)\n",
    "assert numpy.all(ST_estimated == ST_computed)"
   ]
  }
 ],
 "metadata": {},
 "nbformat": 4,
 "nbformat_minor": 5
}
