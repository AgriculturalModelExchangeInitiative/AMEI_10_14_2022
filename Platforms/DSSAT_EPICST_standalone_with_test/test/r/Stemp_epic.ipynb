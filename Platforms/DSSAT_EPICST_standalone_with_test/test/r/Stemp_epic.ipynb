{
 "cells": [
  {
   "cell_type": "markdown",
   "id": "36041494",
   "metadata": {},
   "source": [
    "# Automatic generation of Notebook using PyCropML\n",
    "    This notebook implements a crop model."
   ]
  },
  {
   "cell_type": "markdown",
   "id": "1d35a0a6",
   "metadata": {},
   "source": [
    "### Model Stemp_epic"
   ]
  },
  {
   "cell_type": "code",
   "execution_count": null,
   "id": "ff2b9163",
   "metadata": {},
   "outputs": [],
   "source": [
    "source(\"../../src/r/DSSAT_EPICST_standalone/stemp_epic.r\")\n",
    "library(assertthat)\n"
   ]
  },
  {
   "cell_type": "code",
   "execution_count": null,
   "id": "3bbe3bb9",
   "metadata": {},
   "outputs": [],
   "source": [
    "\n",
    "\n",
    "test_test1<-function(){\n",
    "    NL = 20\n",
    "    ISWWAT = \"Y\"\n",
    "    DLAYR = c(10.0,10.0,10.0,10.0,10.0,10.0,10.0,10.0,10.0,10.0,10.0,10.0,10.0,10.0,10.0,10.0,10.0,10.0,10.0,10.0)\n",
    "    BD = c(1.6,1.6,1.6,1.6,1.6,1.6,1.6,1.6,1.6,1.6,1.6,1.6,1.6,1.6,1.6,1.6,1.6,1.6,1.6,1.6)\n",
    "    DS = c(10,20,30,40,0.0,0.0,0.0,0.0,0.0,0.0,0.0,0.0,0.0,0.0,0.0,0.0,0.0,0.0,0.0,0.0)\n",
    "    DUL = c(0.3,0.3,0.3,0.3,0.3,0.3,0.3,0.3,0.3,0.3,0.3,0.3,0.3,0.3,0.3,0.3,0.3,0.3,0.3,0.3)\n",
    "    LL = c(0.2,0.2,0.2,0.2,0.2,0.2,0.2,0.2,0.2,0.2,0.2,0.2,0.2,0.2,0.2,0.2,0.2,0.2,0.2,0.2)\n",
    "    NLAYR = 4\n",
    "    SW = c(0.2,0.2,0.2,0.2,0.2,0.2,0.2,0.2,0.2,0.2,0.2,0.2,0.2,0.2,0.2,0.2,0.2,0.2,0.2,0.2)\n",
    "    TAMP = 10.0\n",
    "    RAIN = 0.0\n",
    "    TAVG = 25.0\n",
    "    TMAX = 30.0\n",
    "    TMIN = 20.0\n",
    "    TAV = 20.0\n",
    "    DEPIR = 0.0\n",
    "    BIOMAS = 0.0\n",
    "    MULCHMASS = 0.0\n",
    "    SNOW = 0.0\n",
    "    param_init = init_stemp_epic(NL,ISWWAT,BD,DLAYR,DS,DUL,LL,NLAYR,TAMP,RAIN,SW,TAVG,TMAX,TMIN,TAV,DEPIR,BIOMAS,MULCHMASS,SNOW)\n",
    "    CUMDPT = param_init$CUMDPT\n",
    "    DSMID = param_init$DSMID\n",
    "    SRFTEMP = param_init$SRFTEMP\n",
    "    NDays = param_init$NDays\n",
    "    TDL = param_init$TDL\n",
    "    WetDay = param_init$WetDay\n",
    "    ST = param_init$ST\n",
    "    TMA = param_init$TMA\n",
    "    X2_PREV = param_init$X2_PREV\n",
    "    params= model_stemp_epic(NL, ISWWAT, BD, DLAYR, DS, DUL, LL, NLAYR, TAMP, RAIN, CUMDPT, DSMID, SW, TAVG, TMAX, TMIN, TAV, SRFTEMP, NDays, TDL, WetDay, ST, TMA, X2_PREV, DEPIR, BIOMAS, MULCHMASS, SNOW)\n",
    "\n",
    "    SRFTEMP_estimated = params$SRFTEMP\n",
    "    SRFTEMP_computed = 27.3\n",
    "    assert_that(all.equal(SRFTEMP_estimated, SRFTEMP_computed, scale=1, tol=0.1)==TRUE)\n",
    "    ST_estimated = params$ST\n",
    "    ST_computed = c(25.7,23.2,21.7,20.9,0.0,0.0,0.0,0.0,0.0,0.0,0.0,0.0,0.0,0.0,0.0,0.0,0.0,0.0,0.0,0.0)\n",
    "    assert_that(all.equal(ST_estimated, ST_computed, scale=1, tol=0.1)==TRUE)\n",
    "}\n",
    "test_test1()"
   ]
  }
 ],
 "metadata": {},
 "nbformat": 4,
 "nbformat_minor": 5
}
