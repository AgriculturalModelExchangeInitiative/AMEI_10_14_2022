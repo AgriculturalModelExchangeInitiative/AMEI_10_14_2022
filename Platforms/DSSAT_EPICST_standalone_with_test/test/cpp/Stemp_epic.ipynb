{
 "cells": [
  {
   "cell_type": "markdown",
   "id": "3397ebc7",
   "metadata": {},
   "source": [
    "# Automatic generation of Notebook using PyCropML\n",
    "    This notebook implements a crop model."
   ]
  },
  {
   "cell_type": "markdown",
   "id": "132cbb11",
   "metadata": {},
   "source": [
    "### Model Stemp_epic"
   ]
  },
  {
   "cell_type": "code",
   "execution_count": null,
   "id": "c80d9baf",
   "metadata": {},
   "outputs": [],
   "source": [
    "#include \"..\\..\\src\\cpp\\DSSAT_EPICST_standalone\\Stemp_epic_State.cpp\"\n",
    "#include \"..\\..\\src\\cpp\\DSSAT_EPICST_standalone\\Stemp_epic_Rate.cpp\"\n",
    "#include \"..\\..\\src\\cpp\\DSSAT_EPICST_standalone\\Stemp_epic_Auxiliary.cpp\"\n",
    "#include \"..\\..\\src\\cpp\\DSSAT_EPICST_standalone\\Stemp_epic_Exogenous.cpp\"\n",
    "#include \"..\\..\\src\\cpp\\DSSAT_EPICST_standalone\\Stemp_epic.cpp\"\n"
   ]
  },
  {
   "cell_type": "code",
   "execution_count": null,
   "id": "2a2a08a0",
   "metadata": {},
   "outputs": [],
   "source": [
    "class Test\n",
    "{\n",
    "    private:\n",
    "        Stemp_epic_State s;\n",
    "        Stemp_epic_State s1;\n",
    "        Stemp_epic_Rate r;\n",
    "        Stemp_epic_Auxiliary a;\n",
    "        Stemp_epic_Exogenous ex;\n",
    "        Stemp_epic mod;\n",
    "    public:\n",
    "        //Testset1\n",
    "\n",
    "        // test1\n",
    "        void test1()\n",
    "        {\n",
    "            this->mod.setNL(20);\n",
    "            this->mod.setISWWAT(\"Y\");\n",
    "            this->mod.setDLAYR(None);\n",
    "            this->mod.setBD(None);\n",
    "            this->mod.setDS(None);\n",
    "            this->mod.setDUL(None);\n",
    "            this->mod.setLL(None);\n",
    "            this->mod.setNLAYR(4);\n",
    "            this->mod.setSW(None);\n",
    "            this->ex.setTAMP(10.0);\n",
    "            this->ex.setRAIN(0.0);\n",
    "            this->ex.setTAVG(25.0);\n",
    "            this->ex.setTMAX(30.0);\n",
    "            this->ex.setTMIN(20.0);\n",
    "            this->ex.setTAV(20.0);\n",
    "            this->ex.setDEPIR(0.0);\n",
    "            this->ex.setBIOMAS(0.0);\n",
    "            this->ex.setMULCHMASS(0.0);\n",
    "            this->ex.setSNOW(0.0);\n",
    "            this->s.setCUMDPT();\n",
    "            this->s.setDSMID(None);\n",
    "            this->s.setSRFTEMP();\n",
    "            this->s.setNDays();\n",
    "            this->s.setTDL();\n",
    "            this->s.setWetDay(None);\n",
    "            this->s.setST(None);\n",
    "            this->s.setTMA(None);\n",
    "            this->s.setX2_PREV();\n",
    "            this->mod.Calculate_Model(s,s1, r, a, ex);\n",
    "            //SRFTEMP: 27.3;\n",
    "            cout << \"SRFTEMP estimated :\\n\";\n",
    "            cout << \"\\t\" << this->s.getSRFTEMP() << \"\\n\";\n",
    "            //ST: [25.7,23.2,21.7,20.9, 0.0,0.0,0.0,0.0,0.0,0.0,0.0,0.0,0.0,0.0,0.0,0.0,0.0,0.0,0.0,0.0];\n",
    "            cout << \"ST estimated :\\n\";\n",
    "            cout << \"\\t\" << this->s.getST() << \"\\n\";\n",
    "        };\n",
    "}\n"
   ]
  },
  {
   "cell_type": "code",
   "execution_count": null,
   "id": "733608f6",
   "metadata": {},
   "outputs": [],
   "source": [
    "Test t;\n",
    "t.test1();\n"
   ]
  }
 ],
 "metadata": {},
 "nbformat": 4,
 "nbformat_minor": 5
}
