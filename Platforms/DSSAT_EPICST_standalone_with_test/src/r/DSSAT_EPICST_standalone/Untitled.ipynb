{
 "cells": [
  {
   "cell_type": "code",
   "execution_count": 1,
   "id": "ca3f5467",
   "metadata": {},
   "outputs": [
    {
     "ename": "ERROR",
     "evalue": "Error in vector(0, 5): vector: cannot make a vector of mode '0'.\n",
     "output_type": "error",
     "traceback": [
      "Error in vector(0, 5): vector: cannot make a vector of mode '0'.\nTraceback:\n",
      "1. vector(0, 5)"
     ]
    }
   ],
   "source": [
    "TMA <-  vector(0.0,5)"
   ]
  },
  {
   "cell_type": "code",
   "execution_count": null,
   "id": "5906d93f",
   "metadata": {},
   "outputs": [],
   "source": []
  }
 ],
 "metadata": {
  "kernelspec": {
   "display_name": "R",
   "language": "R",
   "name": "ir"
  },
  "language_info": {
   "codemirror_mode": "r",
   "file_extension": ".r",
   "mimetype": "text/x-r-source",
   "name": "R",
   "pygments_lexer": "r",
   "version": "3.6.3"
  }
 },
 "nbformat": 4,
 "nbformat_minor": 5
}
